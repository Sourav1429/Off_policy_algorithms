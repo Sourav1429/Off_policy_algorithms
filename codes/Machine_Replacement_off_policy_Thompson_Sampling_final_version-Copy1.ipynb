{
 "cells": [
  {
   "cell_type": "code",
   "execution_count": 1,
   "metadata": {},
   "outputs": [],
   "source": [
    "import numpy as np\n",
    "import multiprocessing as mp\n",
    "import pickle \n",
    "import pandas as pd\n",
    "mp.set_start_method('spawn',True);\n",
    "import torch\n",
    "torch.multiprocessing.set_start_method('spawn',True);\n",
    "import torch.optim as optim\n",
    "import torch.nn as nn\n",
    "import torch.nn.functional as F\n",
    "from itertools import product\n",
    "#from tqdm import tqdm\n",
    "import time\n",
    "\n",
    "class Machine_Replacement:\n",
    "    def __init__(self,rep_cost=0.7,nS=6,nA=2):\n",
    "        self.nS = nS;\n",
    "        self.nA = nA;\n",
    "        self.cost = self.cost = np.linspace(0.1, 0.99,nS);\n",
    "        self.rep_cost = rep_cost;\n",
    "    def gen_probability(self):\n",
    "        self.P = np.zeros((self.nA,self.nS,self.nS));\n",
    "        for i in range(self.nS):\n",
    "            for j in range(self.nS):\n",
    "                if(i<=j):\n",
    "                    self.P[0,i,j]=(i+1)*(j+1);\n",
    "                else:\n",
    "                    continue;\n",
    "            self.P[0,i,:]=self.P[0,i,:]/np.sum(self.P[0,i,:])\n",
    "            self.P[1,i,0]=1;\n",
    "        return self.P;\n",
    "    def gen_reward(self):\n",
    "        self.R=np.zeros((self.nA,self.nS,self.nS));\n",
    "        for i in range(self.nS):\n",
    "            self.R[0,i,:] = self.cost[i];\n",
    "            self.R[1,i,0] = self.rep_cost+self.cost[0];\n",
    "        return self.R;\n",
    "    def gen_expected_reward(self):\n",
    "        self.R = np.zeros((self.nA,self.nS));\n",
    "        for i in range(self.nS):\n",
    "            self.R[0,i] = self.cost[i];\n",
    "            self.R[1,i] = self.rep_cost + self.cost[0];\n",
    "        return self.R;"
   ]
  },
  {
   "cell_type": "markdown",
   "metadata": {},
   "source": [
    "For 4 states. Ideal state was initialising alpha = 0.9, S=np.ones(nPOL) and F = np.ones(nPOL)*2; lr=0.1"
   ]
  },
  {
   "cell_type": "code",
   "execution_count": 2,
   "metadata": {},
   "outputs": [],
   "source": [
    "class get_hyperparameters:\n",
    "    def __init__(self):\n",
    "        self.T = 500000;\n",
    "        self.runs = 5;\n",
    "        self.lr = 0.01;\n",
    "        self.batch_size = 50;\n",
    "        self.start = 0;\n",
    "        self.nS = 10;\n",
    "        self.nA = 2;\n",
    "        self.rep_cost = 0.7\n",
    "        self.alpha = 0.9\n",
    "        self.gamma = 0.95\n",
    "        self.beta = 1;\n",
    "    \n",
    "    def ret_hyperparameters(self):\n",
    "        return (self.T,self.runs,self.lr,self.batch_size,self.start,self.nS,self.nA,self.rep_cost,self.alpha,self.gamma,self.beta)"
   ]
  },
  {
   "cell_type": "code",
   "execution_count": 3,
   "metadata": {},
   "outputs": [],
   "source": [
    "class weights(nn.Module):\n",
    "    def __init__(self,input_size,output_size,hidden_size = 0):\n",
    "        super(weights,self).__init__()\n",
    "        self.input_size = input_size;\n",
    "        self.hidden_size = hidden_size;\n",
    "        self.output_size = output_size;\n",
    "        if(hidden_size!=0):\n",
    "            self.linear1 = nn.Linear(self.input_size, self.hidden_size, bias=False)\n",
    "            self.linear2 = nn.Linear(self.hidden_size, self.output_size, bias=False)\n",
    "        else:\n",
    "            self.linear1 = nn.Linear(self.input_size, self.output_size, bias=False)\n",
    "        #nn.init.ones_(self.linear1.weight);\n",
    "    '''\n",
    "        forward(): We accept a state 's' as input. Then we convert this into one hot encoding which is accomplished by first two lines.\n",
    "        Further we convert this one_hot vector 's' into pytorch tensor and then pass it through the network to obtain a output which is returned \n",
    "    '''\n",
    "    def forward(self,state):\n",
    "        s = np.zeros(self.input_size);\n",
    "        #print(state,end='===>');\n",
    "        s[state] = 1;\n",
    "        state = torch.FloatTensor(s).to(device)\n",
    "        #print(state);\n",
    "        if(self.hidden_size == 0):\n",
    "            output = torch.exp(self.linear1(state)) #To ensure that the outputs are always positive. giving Relu will cause problems.\n",
    "        else:\n",
    "            output = torch.exp(self.linear2(torch.exp(self.linear1(state))));\n",
    "        return output\n",
    "    \n",
    "    def forward_batch(self,states):\n",
    "        s = np.zeros((len(states),self.input_size));\n",
    "        #print(state,end='===>');\n",
    "        for i in range(len(states)):\n",
    "            s[i][states[i]] = 1\n",
    "        states = torch.FloatTensor(s).to(device)\n",
    "        #print(state);\n",
    "        if(self.hidden_size == 0):\n",
    "            output = torch.exp(self.linear1(states)) #To ensure that the outputs are always positive. giving Relu will cause problems.\n",
    "        else:\n",
    "            output = torch.exp(self.linear2(torch.exp(self.linear1(state))));\n",
    "        return output\n",
    "    \n",
    "    def fast_forward(self,s1,ns1,s2,ns2):\n",
    "        return self.forward(s1),self.forward(ns1),self.forward(s2),self.forward(ns2);"
   ]
  },
  {
   "cell_type": "code",
   "execution_count": 4,
   "metadata": {},
   "outputs": [],
   "source": [
    "class Target_Policy:\n",
    "    '''\n",
    "        First we create an initiualizer function namely a constructor to initialize the variables\n",
    "        with initial data values\n",
    "    '''\n",
    "    def __init__(self,S,A,P,R,start):\n",
    "        self.S=S # represant the states of the MDP\n",
    "        self.nS = len(S) # Reperesants the number of states of the MDP\n",
    "        self.nA = len(A);# Represants the number of actions in the MDP\n",
    "        self.P=P # Represants the true Probability function\n",
    "        self.R=R # Represants the true Reward  function\n",
    "        self.A=A;# Represnats the Action Space\n",
    "        self.K_pol = []; # To store all the policies\n",
    "        self.s_start=start # Store the start state \n",
    "    '''\n",
    "        In the generate_next_state(), we are generating our next state to be visited based on the following input parameters\n",
    "        s : Current state\n",
    "        a : Current action\n",
    "    '''    \n",
    "    def generate_next_state(self,s,a):\n",
    "        #p = np.zeros(self.nS)\n",
    "        p = self.P[a][s][:] # extrcat all the probabilities of the different statestransition given current s and a\n",
    "        #print(p);\n",
    "        return (np.argmax(np.random.multinomial(1,p)))\n",
    "    \n",
    "    '''\n",
    "        Single function to find the plot between the cumulative regret generated by different algorithms\n",
    "        Parameters:\n",
    "            reg_list : A list containing the regret value at different runs instances averaged over several time\n",
    "    '''    \n",
    "    def plot_data(self,reg_list):\n",
    "        plt.plot(np.arange(len(reg_list)),np.cumsum(np.array(reg_list)),marker = '+'); \n",
    "    '''\n",
    "        Function to find the optimum policy out of the K policies found out.\n",
    "        Parameters:\n",
    "            runs : To find for how many runs the current policy to be runned\n",
    "            T : Each run consisiting of how many time steps to find the average reward for each policy in one run\n",
    "            Time complexity : O(#(policies) x #(episode runs) x #(number of Time steps in one episode))\n",
    "    '''\n",
    "    def find_optimum_policy(self):\n",
    "        self.find_policies(); #Call the find_policies() to find all the policies and store it in 'self.K' list\n",
    "        final_R = np.zeros(len(self.K_pol));\n",
    "        for idx,pol in enumerate(self.K_pol):\n",
    "            #policy = self.one_hot(pol);\n",
    "            beh_obj = beh_pol_sd(self.P, pol, self.nS, self.nA)\n",
    "            state_distribution = beh_obj.state_distribution_simulated(1);\n",
    "            final_R[idx] = sum([state_distribution[state] *self.R[int(pol[state]),state] for state in range(self.nS)]);\n",
    "        for l_pol in range(len(self.K_pol)):\n",
    "            print(self.K_pol[l_pol],\"    ====>    \",final_R[l_pol]); # Display the the expected reward for each policy\n",
    "        return (final_R,self.K_pol[np.argmin(final_R)],np.min(final_R));# Return the minimum reward, the policy number which gives the minimum reward and the policy that gives minimum reward\n",
    "    \n",
    "    def find_policies(self):\n",
    "        self.K_pol = [];\n",
    "        pol=np.zeros(self.nS) # First policy is all 0's\n",
    "        self.K_pol.append(np.array(pol)); # append it to our K_policy list namely self.K\n",
    "        for i in reversed(range(self.nS)):\n",
    "            pol[i] = 1; # Come from the end and since the structure is thresholding nature so make each position 1 from 0 and append the same\n",
    "            print(pol);\n",
    "            self.K_pol.append(np.array(pol));\n",
    "        print(len(self.K_pol),\" policies found\");"
   ]
  },
  {
   "cell_type": "code",
   "execution_count": 5,
   "metadata": {},
   "outputs": [],
   "source": [
    "device = torch.device(\"cpu\")\n",
    "\n",
    "class average_case_distribution:\n",
    "    def __init__(self,nS,nA,behaviour_policy,state,lr,batch_size):\n",
    "        self.nS = nS\n",
    "        self.nA = nA\n",
    "        self.behaviour_policy = behaviour_policy;\n",
    "        self.state = state;\n",
    "        self.lr = lr\n",
    "        self.W_loss = 0\n",
    "        self.weight_obj = weights(nS,1).to(device);\n",
    "        self.W_loss = 0;\n",
    "        self.batch_size = batch_size\n",
    "    def set_target_policy(self,target_pol):\n",
    "        self.target_policy = target_pol;\n",
    "        self.optimizerW = optim.Adam(self.weight_obj.parameters(),lr = self.lr);\n",
    "        self.batch=[];\n",
    "    def show_policy(self):\n",
    "        print(self.target_policy);\n",
    "    def set_batch(self,data):\n",
    "        self.data = data;\n",
    "        self.T = len(data);\n",
    "    def get_batch(self):\n",
    "        if(self.T<=self.batch_size):\n",
    "            return self.data\n",
    "        else:\n",
    "            i = 1;\n",
    "            j=np.random.choice(self.T);\n",
    "            #j = np.random.randint(0,self.T,self.batch_size);\n",
    "            #batch = [[self.data[k][0],self.data[k][1],self.data[k][2]] for k in j]\n",
    "            batch=[];\n",
    "            while(i<=self.batch_size):\n",
    "                if(np.random.random()<=0.9):\n",
    "                    batch.append([self.data[j][0],self.data[j][1],self.data[j][2]])\n",
    "                    i+=1;\n",
    "                j = (j+1)%self.T;\n",
    "            return batch; \n",
    "    \n",
    "    def get_w(self,data,weight_obj,m,pair=0):\n",
    "        eps = 0.00000000001\n",
    "        if(pair == 1):\n",
    "            Z_w_state = torch.tensor(0);\n",
    "            for i in range(len(data)):\n",
    "                val = weight_obj(data[i][0]);\n",
    "#                 print(val);\n",
    "                Z_w_state = torch.add(Z_w_state,val);\n",
    "            #print(Z_w_state.detach().numpy()[0]/self.batch_size);\n",
    "#             print((Z_w_state/self.batch_size)+eps)\n",
    "            return (Z_w_state/self.batch_size)+eps;\n",
    "#             print(Z_w_state)\n",
    "        else:\n",
    "            state1,state2,w_state1,w_state2,w_next_state1,w_next_state2,beta1,beta2 = list(),list(),list(),list(),list(),list(),list(),list();\n",
    "            K = list();\n",
    "            for i in range(len(data)):\n",
    "                sample1 = data[i][0];\n",
    "                sample2 = data[i][1];\n",
    "                state1.append(sample1[0]);\n",
    "                #print(sample1);\n",
    "                w_state1.append(weight_obj(sample1[0]));\n",
    "                w_next_state1.append(weight_obj(sample1[2]));\n",
    "                state2.append(sample2[0]);\n",
    "                w_state2.append(weight_obj(sample2[0]));\n",
    "                w_next_state2.append(weight_obj(sample2[2]));\n",
    "                beta1.append(self.target_policy[sample1[0],sample1[1]]/self.behaviour_policy[sample1[0],sample1[1]]);\n",
    "                beta2.append(self.target_policy[sample2[0],sample2[1]]/self.behaviour_policy[sample2[0],sample2[1]]);\n",
    "                K.append(sample1[2]==sample2[2]);\n",
    "            return (state1,state2,w_state1,w_state2,w_next_state1,w_next_state2,beta1,beta2,K);\n",
    "    def get_w_updated(self,data,weight_obj,m,Z_w_state,pair=0): #data should be batch. note all inputs to be passed \n",
    "        if(pair == 1):\n",
    "            Z_w_state = torch.Tensor(0);\n",
    "            for i in range(len(data)):\n",
    "                val = weight_obj(data[i][0]);\n",
    "                print(val);\n",
    "                Z_w_state+=val;\n",
    "            #print(Z_w_state.detach().numpy()[0]/self.batch_size);\n",
    "            Z_w_state = Z_w_state.item()/self.batch_size;\n",
    "            if(Z_w_state<0.00000000000005):\n",
    "                Z_w_state+=0.000000000001;\n",
    "            return Z_w_state;\n",
    "        else:\n",
    "            data = torch.tensor(data)\n",
    "#             print(data[:,0])\n",
    "#             print(data[:,2])\n",
    "#             print(data[:,0].size())\n",
    "            new_data_current = torch.reshape(data[:,0],(self.batch_size,1))\n",
    "#             w_current_state = weight_obj.forward_batch(new_data_current)\n",
    "            \n",
    "            new_data_next = torch.reshape(data[:,2],(self.batch_size,1))\n",
    "            new_data = torch.cat((new_data_current,new_data_next),0)\n",
    "            w = weight_obj.forward_batch(new_data)\n",
    "#             print(w)\n",
    "#             print(Z_w_state)\n",
    "#             print(w/Z_w_state)\n",
    "#             print(\"****\")\n",
    "            w = w/Z_w_state\n",
    "#             print(w)\n",
    "#             print(new_data.size())\n",
    "#             print(w.size())\n",
    "            w = torch.reshape(w,(2,self.batch_size))\n",
    "            beta = torch.zeros(self.batch_size,1)\n",
    "            for i in range(len(data)):\n",
    "                beta[i] = self.target_policy[data[i][0],data[i][1]]/self.behaviour_policy[data[i][0],data[i][1]]\n",
    "            \n",
    "            K = torch.zeros(self.batch_size,self.batch_size)\n",
    "            for i in range(len(data)):\n",
    "                for j in range(len(data)):\n",
    "                    K[i][j] = (data[i][2] == data[j][2])\n",
    "#             print(\"here\")\n",
    "#             print(w.size())\n",
    "#             print(beta.size())\n",
    "#             print(K.size())\n",
    "            w_0 = torch.reshape(w[0], (self.batch_size,1))\n",
    "            w_1 = torch.reshape(w[1], (self.batch_size,1))\n",
    "#             print(w_0)\n",
    "#             print(beta)\n",
    "#             print(w_1)\n",
    "#             print(w_0 * beta - w_1)\n",
    "#check here only\n",
    "            delta = w_0 * beta - w_1\n",
    "            temp1 = torch.matmul(K,delta) #50,50:50,1 = 50, 1\n",
    "            final_sum = torch.matmul(torch.transpose(delta,0,1),temp1)\n",
    "#             print(w_0)\n",
    "#             print(w_1)\n",
    "#             print(Z_w_state)\n",
    "#             print(final_sum)\n",
    "#             print(\".........\")\n",
    "            return final_sum\n",
    "    \n",
    "    def update_state_distribution_ratio(self):\n",
    "        self.batch = self.get_batch();\n",
    "        batch=self.batch;\n",
    "        temp = 0\n",
    "        for _ in range(5):\n",
    "             start = time.time()\n",
    "             batch = self.get_batch();\n",
    "             Z_w_state = self.get_w(batch, self.weight_obj, len(batch),1);\n",
    "             self.w_loss = 0\n",
    "             self.w_loss = self.get_w_updated(batch,self.weight_obj,len(batch),Z_w_state)\n",
    "             self.w_loss/=(self.batch_size*self.batch_size);\n",
    "             temp += self.w_loss\n",
    "             start = time.time()\n",
    "             self.optimizerW.zero_grad();\n",
    "             self.w_loss.backward(); #Improving the forward pass computation\n",
    "             self.optimizerW.step();\n",
    "             self.optimizerW.zero_grad();\n",
    "             if(self.T == self.batch_size):\n",
    "                    break;\n",
    "        state_dist=[];    \n",
    "        for i in range(self.nS):\n",
    "            w_state = self.weight_obj(i);\n",
    "            w_s = w_state.item();\n",
    "            state_dist.append(w_s);\n",
    "        return np.array(state_dist);"
   ]
  },
  {
   "cell_type": "code",
   "execution_count": 6,
   "metadata": {},
   "outputs": [],
   "source": [
    "class beh_pol_sd:\n",
    "    def __init__(self,P,policy,nS,nA):\n",
    "        self.P = P\n",
    "        self.policy = policy\n",
    "        self.nS = nS;\n",
    "        self.nA = nA;\n",
    "    \n",
    "    def onehot(self):\n",
    "        pol = np.zeros((self.nS,self.nA));\n",
    "        for i in range(self.nS):\n",
    "            pol[i][int(self.policy[i])]=1;\n",
    "        return pol;\n",
    "    def find_transition_matrix(self,onehot_encode=1):\n",
    "        if(onehot_encode==1):\n",
    "            self.policy = self.onehot()\n",
    "        T_s_s_next = np.zeros((self.nS,self.nS));\n",
    "        for s in range(self.nS):\n",
    "            for s_next in range(self.nS):\n",
    "                for a in range(self.nA):\n",
    "                    #print(s,s_next,a);\n",
    "                    #print(T[a,s,s_next]);\n",
    "                    T_s_s_next[s,s_next]+=self.P[a,s,s_next]*self.policy[s,a];\n",
    "        return T_s_s_next;\n",
    "    def state_distribution_simulated(self,onehot_encode=1):\n",
    "        P_policy = self.find_transition_matrix(onehot_encode)\n",
    "        #print(P_policy);\n",
    "        P_dash = np.append(P_policy - np.eye(self.nS),np.ones((self.nS,1)),axis=1);\n",
    "        #print(P_dash);\n",
    "        P_last = np.linalg.pinv(np.transpose(P_dash))[:,-1]\n",
    "        return P_last;"
   ]
  },
  {
   "cell_type": "code",
   "execution_count": 7,
   "metadata": {},
   "outputs": [],
   "source": [
    "def one_hot(target_policy,nS,nA):\n",
    "  nPOL = len(target_policy);\n",
    "  one_hot_target_policy = []\n",
    "  for i in range(nPOL):\n",
    "    pol=np.zeros((nS,nA));\n",
    "    for s in range(nS):\n",
    "        pol[s,target_policy[i,s]]=1\n",
    "    one_hot_target_policy.append(pol);\n",
    "  return np.array(one_hot_target_policy);"
   ]
  },
  {
   "cell_type": "code",
   "execution_count": 8,
   "metadata": {},
   "outputs": [],
   "source": [
    "def simulate_episode(T,state,behaviour_policy,P,batch_size,run):\n",
    "  #global P,behaviour_policy,batch_size;\n",
    "  data={};temp=[];\n",
    "  for t in range(1,T+1): \n",
    "    action = np.argmax(np.random.multinomial(1,behaviour_policy[state,:]))\n",
    "    next_state = np.argmax(np.random.multinomial(1,P[action,state,:]));\n",
    "    temp.append([state,action,next_state]);\n",
    "    state = next_state;\n",
    "    if(t%batch_size==0):\n",
    "      #print(t);\n",
    "      data[int(t/batch_size)-1] = temp[:];\n",
    "  #print(len(data));\n",
    "  with open('Data_used_'+str(run),'wb') as f:\n",
    "    pickle.dump(temp,f);\n",
    "  f.close();\n",
    "  return data;"
   ]
  },
  {
   "cell_type": "code",
   "execution_count": 9,
   "metadata": {},
   "outputs": [],
   "source": [
    "mr_obj = Machine_Replacement(0.7,10,2)\n",
    "P = mr_obj.gen_probability()\n",
    "R = mr_obj.gen_expected_reward()"
   ]
  },
  {
   "cell_type": "code",
   "execution_count": 10,
   "metadata": {},
   "outputs": [
    {
     "name": "stdout",
     "output_type": "stream",
     "text": [
      "[0.50458716 0.00934741 0.01443759 0.02006927 0.02656227 0.03445916\n",
      " 0.04481574 0.06012546 0.08863322 0.19696272]\n"
     ]
    }
   ],
   "source": [
    "T,runs,lr,batch_size,start,nS,nA,rep_cost,alpha,gamma,beta = get_hyperparameters().ret_hyperparameters();\n",
    "nPOL = nS-1\n",
    "# T = 100000\n",
    "behaviour_policy = np.ones((nS,nA))*0.5\n",
    "behaviour_policy_state_distribution = beh_pol_sd(P,behaviour_policy,nS,nA).state_distribution_simulated(0);\n",
    "print(behaviour_policy_state_distribution)"
   ]
  },
  {
   "cell_type": "code",
   "execution_count": 11,
   "metadata": {},
   "outputs": [
    {
     "name": "stdout",
     "output_type": "stream",
     "text": [
      "[0.24909499 0.00940638 0.01497343 0.0217392  0.03057075 0.0431587\n",
      " 0.063406   0.10297516 0.22010939 0.24456599]\n",
      "[0.31939735 0.01206116 0.0191994  0.02787468 0.03919877 0.05533943\n",
      " 0.08130114 0.13203795 0.14854269 0.16504743]\n",
      "[0.36798539 0.01389595 0.02212009 0.03211509 0.04516184 0.0637579\n",
      " 0.09366901 0.10705029 0.12043158 0.13381287]\n",
      "[0.40601655 0.01533209 0.02440619 0.03543417 0.0498293  0.07034725\n",
      " 0.0820718  0.09379634 0.10552088 0.11724542]\n",
      "[0.43674001 0.01649228 0.02625302 0.03811549 0.05359991 0.06431989\n",
      " 0.07503988 0.08575986 0.09647984 0.10719982]\n",
      "[0.46147503 0.01742633 0.02773987 0.04027418 0.05034273 0.06041128\n",
      " 0.07047982 0.08054837 0.09061692 0.10068546]\n",
      "[0.48084049 0.01815761 0.02890396 0.03853861 0.04817326 0.05780791\n",
      " 0.06744256 0.07707721 0.08671187 0.09634652]\n",
      "[0.49515235 0.01869806 0.02804709 0.03739612 0.04674515 0.05609418\n",
      " 0.06544321 0.07479224 0.08414127 0.0934903 ]\n",
      "[0.50458716 0.01834862 0.02752294 0.03669725 0.04587156 0.05504587\n",
      " 0.06422018 0.0733945  0.08256881 0.09174312]\n"
     ]
    }
   ],
   "source": [
    "target_policy = np.zeros((nPOL,nS),dtype = np.int8)\n",
    "#data_dict={0:[],1:[],2:[],3:[],4:[]};\n",
    "#data_used={0:[],1:[],2:[],3:[],4:[]};\n",
    "for i in range(nPOL,0,-1):\n",
    "    target_policy[nPOL-i][-(nPOL-i+1):] = 1\n",
    "#print(target_policy)\n",
    "for pol in target_policy:\n",
    "    dist = beh_pol_sd(P,pol,nS,nA).state_distribution_simulated(1)\n",
    "    print(dist)"
   ]
  },
  {
   "cell_type": "code",
   "execution_count": 73,
   "metadata": {},
   "outputs": [
    {
     "name": "stderr",
     "output_type": "stream",
     "text": [
      "100%|███████████████████████████████████████| 1000/1000 [13:06<00:00,  1.27it/s]\n"
     ]
    },
    {
     "name": "stdout",
     "output_type": "stream",
     "text": [
      "0 ========> 0.5792180055763512\n",
      "[0.25527078 0.01247125 0.01692607 0.02756928 0.03633656 0.04573385\n",
      " 0.06506076 0.10301017 0.20668818 0.2309331 ]\n"
     ]
    },
    {
     "name": "stderr",
     "output_type": "stream",
     "text": [
      "100%|███████████████████████████████████████| 1000/1000 [13:03<00:00,  1.28it/s]\n"
     ]
    },
    {
     "name": "stdout",
     "output_type": "stream",
     "text": [
      "1 ========> 0.5003192127007081\n",
      "[0.33832551 0.01360815 0.01948294 0.02525056 0.03780359 0.05633297\n",
      " 0.07083274 0.12925706 0.14155256 0.16755393]\n"
     ]
    },
    {
     "name": "stderr",
     "output_type": "stream",
     "text": [
      "100%|███████████████████████████████████████| 1000/1000 [13:06<00:00,  1.27it/s]\n"
     ]
    },
    {
     "name": "stdout",
     "output_type": "stream",
     "text": [
      "2 ========> 0.4630963296681276\n",
      "[0.39179399 0.014248   0.01980788 0.02548619 0.04146277 0.05782922\n",
      " 0.08025371 0.09471993 0.11646887 0.15792944]\n"
     ]
    },
    {
     "name": "stderr",
     "output_type": "stream",
     "text": [
      "100%|███████████████████████████████████████| 1000/1000 [13:08<00:00,  1.27it/s]\n"
     ]
    },
    {
     "name": "stdout",
     "output_type": "stream",
     "text": [
      "3 ========> 0.44398282275215073\n",
      "[0.41337559 0.01488642 0.02210817 0.03019002 0.04571123 0.06576535\n",
      " 0.07633778 0.09028289 0.10658713 0.13475542]\n"
     ]
    },
    {
     "name": "stderr",
     "output_type": "stream",
     "text": [
      "100%|███████████████████████████████████████| 1000/1000 [13:44<00:00,  1.21it/s]\n"
     ]
    },
    {
     "name": "stdout",
     "output_type": "stream",
     "text": [
      "4 ========> 0.43449982618252236\n",
      "[0.45141559 0.01351027 0.02124598 0.02944617 0.04620017 0.05766113\n",
      " 0.07032715 0.07954814 0.10475341 0.12589198]\n"
     ]
    },
    {
     "name": "stderr",
     "output_type": "stream",
     "text": [
      "100%|███████████████████████████████████████| 1000/1000 [13:50<00:00,  1.20it/s]\n"
     ]
    },
    {
     "name": "stdout",
     "output_type": "stream",
     "text": [
      "5 ========> 0.4336068008824178\n",
      "[0.48064017 0.01374404 0.02286471 0.0319161  0.04361042 0.05374572\n",
      " 0.06504951 0.0824424  0.08643887 0.11954806]\n"
     ]
    },
    {
     "name": "stderr",
     "output_type": "stream",
     "text": [
      "100%|███████████████████████████████████████| 1000/1000 [13:24<00:00,  1.24it/s]\n"
     ]
    },
    {
     "name": "stdout",
     "output_type": "stream",
     "text": [
      "6 ========> 0.4364578370137339\n",
      "[0.48608117 0.01406211 0.0230646  0.03633346 0.03971624 0.04802136\n",
      " 0.0728385  0.0750586  0.0902665  0.11455746]\n"
     ]
    },
    {
     "name": "stderr",
     "output_type": "stream",
     "text": [
      "100%|███████████████████████████████████████| 1000/1000 [13:24<00:00,  1.24it/s]\n"
     ]
    },
    {
     "name": "stdout",
     "output_type": "stream",
     "text": [
      "7 ========> 0.4407451555417405\n",
      "[0.49498419 0.0139151  0.02104728 0.03252242 0.04224776 0.05175884\n",
      " 0.06764219 0.07339245 0.09417463 0.10831514]\n"
     ]
    },
    {
     "name": "stderr",
     "output_type": "stream",
     "text": [
      "100%|███████████████████████████████████████| 1000/1000 [13:24<00:00,  1.24it/s]"
     ]
    },
    {
     "name": "stdout",
     "output_type": "stream",
     "text": [
      "8 ========> 0.4445578363390364\n",
      "[0.49695384 0.01350032 0.02045462 0.03538268 0.03920179 0.05143226\n",
      " 0.05727784 0.07803726 0.09016857 0.11759082]\n"
     ]
    },
    {
     "name": "stderr",
     "output_type": "stream",
     "text": [
      "\n"
     ]
    }
   ],
   "source": [
    "lr = 0.01\n",
    "#T = 50000\n",
    "#print(target_policy)\n",
    "S=np.ones((runs,nPOL);\n",
    "F=np.ones((runs,nPOL);\n",
    "n = np.zeros((runs,nPOL))\n",
    "policy_sampled = np.zeros((int(T/batch_size),runs))\n",
    "one_hot_target_policy = one_hot(target_policy,nS,nA)\n",
    "for run in range(runs):\n",
    "    data = simulate_episode(T,start,behaviour_policy,P,batch_size,0);\n",
    "    all_networks=dict()\n",
    "    rho_vect = np.zeros(nPOL)\n",
    "    for i in range(nPOL):\n",
    "        pol = one_hot_target_policy[i]\n",
    "        #print(pol)\n",
    "        all_networks[i] = average_case_distribution(nS,nA,behaviour_policy,start,lr,batch_size)\n",
    "        all_networks[i].set_target_policy(pol);\n",
    "    for t in tqdm(range(1,int(T/batch_size)+1)):\n",
    "        #sampled_policy = np.argmin(np.array([np.random.beta(S[i],F[i]) for i in range(nPOL)]))\n",
    "        sampled_policy = pol\n",
    "        all_networks[sampled_policy].set_batch(data[t-1]);\n",
    "        c = all_networks[sampled_policy].update_state_distribution_ratio()*behaviour_policy_state_distribution;\n",
    "        sd = c/np.sum(c);\n",
    "        rew = sum([sd[state] *R[int(target_policy[sampled_policy,state]),state] for state in range(nS)]);\n",
    "        rho_vect[sampled_policy] = alpha*rew + (1-alpha)*rho_vect[sampled_policy];\n",
    "        S[run,sampled_policy]+=rho_vect[sampled_policy];\n",
    "        F[run,sampled_policy]+=(1-rho_vect[sampled_policy])\n",
    "        policy_sampled[t-1,run] = sampled_policy;\n",
    "        n[run,sampled_policy]+=1;\n",
    "    #print(pol,\"========>\",S[sampled_policy]/(S[sampled_policy]+F[sampled_policy]))\n",
    "    #print(sd);\n",
    "pd.DataFrame(policy_sampled).to_excel('Policy sampled Thompson Sampling final version_1st_var'+str(nS)+'.xlsx');"
   ]
  },
  {
   "cell_type": "code",
   "execution_count": null,
   "metadata": {},
   "outputs": [
    {
     "name": "stderr",
     "output_type": "stream",
     "text": [
      "100%|█████████████████████████████████████| 10000/10000 [12:55<00:00, 12.89it/s]\n"
     ]
    }
   ],
   "source": [
    "S=np.ones((runs,nPOL));\n",
    "F=np.ones((runs,nPOL));\n",
    "n = np.zeros((runs,nPOL))\n",
    "policy_sampled = np.zeros((int(T/batch_size),runs))\n",
    "one_hot_target_policy = one_hot(target_policy,nS,nA)\n",
    "for run in range(runs):\n",
    "    data = simulate_episode(T,start,behaviour_policy,P,batch_size,0);\n",
    "    all_networks=dict()\n",
    "    rho_vect = np.zeros(nPOL)\n",
    "    for i in range(nPOL):\n",
    "        pol = one_hot_target_policy[i]\n",
    "        #print(pol)\n",
    "        all_networks[i] = average_case_distribution(nS,nA,behaviour_policy,start,lr,batch_size)\n",
    "        all_networks[i].set_target_policy(pol);\n",
    "    for t in range(1,int(T/batch_size)+1):\n",
    "        sampled_policy = np.argmin(np.array([np.random.beta(S[run,i],F[run,i]) for i in range(nPOL)]))\n",
    "        #sampled_policy = pol\n",
    "        all_networks[sampled_policy].set_batch(data[t-1]);\n",
    "        c = all_networks[sampled_policy].update_state_distribution_ratio()*behaviour_policy_state_distribution;\n",
    "        sd = c/np.sum(c);\n",
    "        rew = sum([sd[state] *R[int(target_policy[sampled_policy,state]),state] for state in range(nS)]);\n",
    "        rho_vect[sampled_policy] = alpha*rew + (1-alpha)*rho_vect[sampled_policy];\n",
    "        S[run,sampled_policy]+=rho_vect[sampled_policy];\n",
    "        F[run,sampled_policy]+=(1-rho_vect[sampled_policy])\n",
    "        policy_sampled[t-1,run] = sampled_policy;\n",
    "        n[run,sampled_policy]+=1;\n",
    "    #print(pol,\"========>\",S[sampled_policy]/(S[sampled_policy]+F[sampled_policy]))\n",
    "    #print(sd);\n",
    "pd.DataFrame(policy_sampled).to_excel('Policy sampled Thompson Sampling final version_1st_var'+str(nS)+'.xlsx');"
   ]
  },
  {
   "cell_type": "code",
   "execution_count": 27,
   "metadata": {},
   "outputs": [
    {
     "name": "stdout",
     "output_type": "stream",
     "text": [
      "[ 34.  50.  81. 125. 143. 158. 134. 143. 132.]\n"
     ]
    }
   ],
   "source": [
    "for i in range(nPOL):\n",
    "    print(\"Policy number \"+str(i));\n",
    "    print(n[i]);\n",
    "    print(S[i]/(S[i]+F[i]))\n",
    "    print(\"************\");"
   ]
  }
 ],
 "metadata": {
  "kernelspec": {
   "display_name": "Python 3 (ipykernel)",
   "language": "python",
   "name": "python3"
  },
  "language_info": {
   "codemirror_mode": {
    "name": "ipython",
    "version": 3
   },
   "file_extension": ".py",
   "mimetype": "text/x-python",
   "name": "python",
   "nbconvert_exporter": "python",
   "pygments_lexer": "ipython3",
   "version": "3.9.7"
  }
 },
 "nbformat": 4,
 "nbformat_minor": 2
}
